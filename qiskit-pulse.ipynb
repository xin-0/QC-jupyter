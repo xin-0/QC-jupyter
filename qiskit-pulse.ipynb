{
 "cells": [
  {
   "cell_type": "code",
   "execution_count": 1,
   "metadata": {},
   "outputs": [],
   "source": [
    "import numpy as np\n",
    "from qiskit.tools.jupyter import *\n",
    "from qiskit import IBMQ\n",
    "# ibm account manager\n",
    "#   - communicate with online account \n",
    "#       - store/delete\n",
    "#       - enable/disenable\n",
    "#   - communicate with ibmq online devices, quantum computers\n",
    "#       - get actual quantum computers as backend"
   ]
  },
  {
   "cell_type": "code",
   "execution_count": 2,
   "metadata": {},
   "outputs": [
    {
     "data": {
      "text/plain": [
       "<AccountProvider for IBMQ(hub='ibm-q', group='open', project='main')>"
      ]
     },
     "execution_count": 2,
     "metadata": {},
     "output_type": "execute_result"
    }
   ],
   "source": [
    "IBMQ.load_account()"
   ]
  },
  {
   "cell_type": "code",
   "execution_count": 3,
   "metadata": {},
   "outputs": [],
   "source": [
    "provider = IBMQ.ibmq.get_provider(hub='ibm-q', group='open', project='main')"
   ]
  },
  {
   "cell_type": "code",
   "execution_count": 4,
   "metadata": {},
   "outputs": [
    {
     "data": {
      "text/plain": [
       "[<IBMQSimulator('ibmq_qasm_simulator') from IBMQ(hub='ibm-q', group='open', project='main')>,\n",
       " <IBMQBackend('ibmq_armonk') from IBMQ(hub='ibm-q', group='open', project='main')>,\n",
       " <IBMQBackend('ibmq_santiago') from IBMQ(hub='ibm-q', group='open', project='main')>,\n",
       " <IBMQBackend('ibmq_bogota') from IBMQ(hub='ibm-q', group='open', project='main')>,\n",
       " <IBMQBackend('ibmq_lima') from IBMQ(hub='ibm-q', group='open', project='main')>,\n",
       " <IBMQBackend('ibmq_belem') from IBMQ(hub='ibm-q', group='open', project='main')>,\n",
       " <IBMQBackend('ibmq_quito') from IBMQ(hub='ibm-q', group='open', project='main')>,\n",
       " <IBMQSimulator('simulator_statevector') from IBMQ(hub='ibm-q', group='open', project='main')>,\n",
       " <IBMQSimulator('simulator_mps') from IBMQ(hub='ibm-q', group='open', project='main')>,\n",
       " <IBMQSimulator('simulator_extended_stabilizer') from IBMQ(hub='ibm-q', group='open', project='main')>,\n",
       " <IBMQSimulator('simulator_stabilizer') from IBMQ(hub='ibm-q', group='open', project='main')>,\n",
       " <IBMQBackend('ibmq_manila') from IBMQ(hub='ibm-q', group='open', project='main')>]"
      ]
     },
     "execution_count": 4,
     "metadata": {},
     "output_type": "execute_result"
    }
   ],
   "source": [
    "provider.backends()"
   ]
  },
  {
   "cell_type": "code",
   "execution_count": 5,
   "metadata": {},
   "outputs": [],
   "source": [
    "backend = provider.get_backend('ibmq_bogota')\n",
    "back_config = backend.configuration()"
   ]
  },
  {
   "cell_type": "code",
   "execution_count": 6,
   "metadata": {},
   "outputs": [
    {
     "name": "stdout",
     "output_type": "stream",
     "text": [
      "number of qubit:  5\n",
      "support open pulse?:  True\n",
      "basic gate set:  ['id', 'rz', 'sx', 'x', 'cx', 'reset']\n"
     ]
    }
   ],
   "source": [
    "print(\"number of qubit: \", back_config.n_qubits)\n",
    "print(\"support open pulse?: \", back_config.open_pulse)\n",
    "print(\"basic gate set: \", back_config.basis_gates)"
   ]
  },
  {
   "cell_type": "code",
   "execution_count": 7,
   "metadata": {},
   "outputs": [
    {
     "name": "stdout",
     "output_type": "stream",
     "text": [
      "Sampling time: 0.2222222222222222 ns\n"
     ]
    }
   ],
   "source": [
    "dt = back_config.dt\n",
    "print(f\"Sampling time: {dt*1e9} ns\")"
   ]
  },
  {
   "cell_type": "markdown",
   "metadata": {},
   "source": [
    "backend defaults contains approximated specs for the quantum computer that can be a good start point for our following experiment to find more accurate frequency."
   ]
  },
  {
   "cell_type": "code",
   "execution_count": 8,
   "metadata": {},
   "outputs": [],
   "source": [
    "back_defualt = backend.defaults()"
   ]
  },
  {
   "cell_type": "code",
   "execution_count": 9,
   "metadata": {},
   "outputs": [
    {
     "data": {
      "text/plain": [
       "[5000438508.808786,\n",
       " 4849869600.505476,\n",
       " 4782947922.824077,\n",
       " 4858102479.657258,\n",
       " 4978359406.878603]"
      ]
     },
     "execution_count": 9,
     "metadata": {},
     "output_type": "execute_result"
    }
   ],
   "source": [
    "# frequncies for all the 5 qubits\n",
    "back_defualt.qubit_freq_est"
   ]
  },
  {
   "cell_type": "markdown",
   "metadata": {},
   "source": [
    "Define basic parameter and constants"
   ]
  },
  {
   "cell_type": "code",
   "execution_count": 10,
   "metadata": {},
   "outputs": [],
   "source": [
    "GHz = 1.0e9 # Gigahertz\n",
    "MHz = 1.0e6 # Megahertz\n",
    "\n",
    "us = 1.0e-6 # Microsecond\n",
    "ns = 1.0e-9 # Nanosecond\n",
    "\n",
    "# the index of the qubit in backend that we want to find frequency with\n",
    "qubitIdx = 4\n",
    "\n",
    "mem_slot = 0"
   ]
  },
  {
   "cell_type": "code",
   "execution_count": 11,
   "metadata": {},
   "outputs": [
    {
     "name": "stdout",
     "output_type": "stream",
     "text": [
      "We'll measure the 4th qubit in ibmq_bogota \n",
      "\n",
      "sweep from 4.953359406878603 GHz to 5.003359406878619 GHz with approximated frequncy 4.978359406878603 GHz\n"
     ]
    }
   ],
   "source": [
    "# define the search range and get a list of frequencies\n",
    "center_f_Hz = back_defualt.qubit_freq_est[qubitIdx]\n",
    "\n",
    "f_span = 50 * MHz\n",
    "f_step = 1 * MHz\n",
    "\n",
    "f_min = center_f_Hz - f_span/2\n",
    "f_max = center_f_Hz + f_span/2\n",
    "\n",
    "frequencies_GHz = np.arange(f_min/GHz, f_max/GHz, f_step/GHz)\n",
    "\n",
    "print(f\"We'll measure the {qubitIdx}th qubit in {back_config.backend_name} \\n\")\n",
    "print(f\"sweep from {frequencies_GHz[0]} GHz to {frequencies_GHz[-1]} GHz with approximated frequncy {center_f_Hz/GHz} GHz\")"
   ]
  },
  {
   "cell_type": "code",
   "execution_count": 12,
   "metadata": {},
   "outputs": [],
   "source": [
    "# samples need to be multiples of 16\n",
    "def get_closest_multiple_of_16(num):\n",
    "    return int(num + 8 ) - (int(num + 8 ) % 16)"
   ]
  },
  {
   "cell_type": "code",
   "execution_count": 14,
   "metadata": {},
   "outputs": [],
   "source": [
    "from qiskit import pulse\n",
    "from qiskit.circuit import  Parameter\n",
    "\n",
    "drive_sigma_sec = 0.075 * us\n",
    "drive_duration_sec = 8 * drive_sigma_sec\n",
    "\n",
    "drive_amp =0.05\n",
    "freq = Parameter('freq')\n",
    "\n",
    "with pulse.build(backend=backend, default_alignment='sequential', name='freq_sweep') as sweep_plan:\n",
    "    drive_duration = get_closest_multiple_of_16(pulse.seconds_to_samples(drive_duration_sec))\n",
    "    drive_sigma = pulse.seconds_to_samples(drive_sigma_sec)\n",
    "    drive_chan = pulse.drive_channel(qubitIdx)\n",
    "\n",
    "    pulse.set_frequency(freq, drive_chan)\n",
    "    pulse.play(pulse.Gaussian(\n",
    "        duration=drive_duration,\n",
    "        sigma=drive_sigma,\n",
    "        amp=drive_amp,\n",
    "        name='freq_sweep_excitation_pulse'\n",
    "    ),channel=drive_chan)\n",
    "    pulse.measure(qubits=[qubitIdx], registers=[pulse.MemorySlot(mem_slot)])\n",
    "\n",
    "frequencies_Hz = frequencies_GHz * GHz\n",
    "schedules = [sweep_plan.assign_parameters({freq: f}, inplace=False) for f in frequencies_Hz]"
   ]
  },
  {
   "cell_type": "code",
   "execution_count": 15,
   "metadata": {},
   "outputs": [
    {
     "data": {
      "image/png": "[encoded data removed]",
      "text/plain": [
       "<Figure size 936x237.6 with 1 Axes>"
      ]
     },
     "execution_count": 15,
     "metadata": {},
     "output_type": "execute_result"
    }
   ],
   "source": [
    "schedules[0].draw(backend=backend)"
   ]
  }
 ],
 "metadata": {
  "interpreter": {
   "hash": "1bd5fe346fecd784ad8120504f2dbab080ee047c86b35ecb0577ffd2fcb8fab2"
  },
  "kernelspec": {
   "display_name": "Python 3.8.5 64-bit ('quantum': conda)",
   "name": "python3"
  },
  "language_info": {
   "codemirror_mode": {
    "name": "ipython",
    "version": 3
   },
   "file_extension": ".py",
   "mimetype": "text/x-python",
   "name": "python",
   "nbconvert_exporter": "python",
   "pygments_lexer": "ipython3",
   "version": "3.8.5"
  },
  "orig_nbformat": 4
 },
 "nbformat": 4,
 "nbformat_minor": 2
}
