{
 "cells": [
  {
   "cell_type": "markdown",
   "metadata": {},
   "source": [
    "# Phase Estimation\n",
    "\n",
    "## Input\n",
    "1. An known unitary $U$ and its eigenstate $\\vert\\psi\\rangle$ with $U\\vert\\psi\\rangle=e^{2\\pi i\\theta}\\vert\\psi\\rangle$\n",
    "\n",
    "## Goal\n",
    "1. Estimate $\\theta$\n",
    "2. Extensiblity:\n",
    "    - can choose the number of qubit for the first register in order to accommodate to contrains in qubit available.\n",
    "3. Error Assessment:\n",
    "    - Submit the circuit to simulator and actual quantum computers several time to get distribution of the error."
   ]
  },
  {
   "cell_type": "markdown",
   "metadata": {},
   "source": [
    "## Cicuit Construction\n",
    "### package"
   ]
  },
  {
   "cell_type": "code",
   "execution_count": 92,
   "metadata": {},
   "outputs": [],
   "source": [
    "import numpy as np\n",
    "from math import pi\n",
    "from qiskit import ClassicalRegister, QuantumCircuit, QuantumRegister, BasicAer, execute, IBMQ\n",
    "from qiskit.visualization import plot_bloch_multivector, plot_histogram"
   ]
  },
  {
   "cell_type": "markdown",
   "metadata": {},
   "source": [
    "### Circuit \n",
    "#### Helper Functions"
   ]
  },
  {
   "cell_type": "code",
   "execution_count": 93,
   "metadata": {},
   "outputs": [],
   "source": [
    "def pe_circ_init(size:int):\n",
    "    #quantum register and  single state for storing eigen-state\n",
    "    qr = QuantumRegister(size)\n",
    "    psi = QuantumRegister(1,name=\"psi\")\n",
    "    #classical bits for readout\n",
    "    cr = ClassicalRegister(size)\n",
    "    \n",
    "    qc = QuantumCircuit(qr,psi,cr)\n",
    "    # apply Hadamards and init the eigenstate as |1>\n",
    "    for i in range(size):\n",
    "        qc.h(i)\n",
    "    qc.x(size)\n",
    "    \n",
    "    qc.barrier()\n",
    "    \n",
    "    return qc\n",
    "\n",
    "def C_U(circuit:QuantumCircuit, size:int, phi:float):\n",
    "    \n",
    "    rep = 1\n",
    "    for counting_qubit in range(size):\n",
    "        for i in range(rep):\n",
    "            circuit.cu1(2*pi*phi, counting_qubit, size)\n",
    "        rep *= 2\n",
    "    \n",
    "    circuit.barrier()\n",
    "    \n",
    "    return \n",
    "\n",
    "def qft_dagger(qc:QuantumCircuit,size:int):\n",
    "    \n",
    "    for qubit in range(size//2):\n",
    "        qc.swap(qubit,size-qubit-1)\n",
    "    for j in range(size):\n",
    "        for m in range(j):\n",
    "            qc.cu1(-pi/float(2**(j-m)), m, j)\n",
    "        qc.h(j)\n",
    "    qc.barrier()\n",
    "    return\n",
    "\n",
    "def readout(qc:QuantumCircuit,size:int):\n",
    "    for i in range(size):\n",
    "        qc.measure(i,i)\n",
    "    return"
   ]
  },
  {
   "source": [
    "#### circuit generator"
   ],
   "cell_type": "markdown",
   "metadata": {}
  },
  {
   "cell_type": "code",
   "execution_count": 94,
   "metadata": {},
   "outputs": [],
   "source": [
    "def phaseEstCircuit(size:int, phi:float):\n",
    "    qc = pe_circ_init(size)\n",
    "    C_U(qc, size, phi)\n",
    "    qft_dagger(qc, size)\n",
    "    readout(qc,size)\n",
    "    \n",
    "    return qc"
   ]
  },
  {
   "source": [
    "### Result Decoder"
   ],
   "cell_type": "markdown",
   "metadata": {}
  },
  {
   "cell_type": "code",
   "execution_count": 134,
   "metadata": {},
   "outputs": [],
   "source": [
    "def counts_decode(counts):\n",
    "    decoded = {}\n",
    "    for key in counts:\n",
    "        decimal_key = 0.0\n",
    "        i = -1\n",
    "        for c in key:\n",
    "            b = int(c)\n",
    "            if b:\n",
    "                decimal_key += 2**i\n",
    "            i -= 1\n",
    "        decoded[decimal_key] = counts[key]\n",
    "    return decoded\n",
    "\n",
    "def expectation(decode_counts):\n",
    "    res = 0.0\n",
    "    total = 0\n",
    "    for key in decode_counts:\n",
    "        total += decode_counts[key]\n",
    "        res += key*decode_counts[key]\n",
    "    return res/total\n",
    "\n",
    "def choosemax(decode_counts):\n",
    "    counts = 0\n",
    "    result = 0.0\n",
    "    for key in decode_counts:\n",
    "        if decode_counts[key] > counts:\n",
    "            counts = decode_counts[key]\n",
    "            result = key\n",
    "    return  result"
   ]
  },
  {
   "cell_type": "code",
   "execution_count": 135,
   "metadata": {},
   "outputs": [],
   "source": [
    "def getEstPhi(PhaseEstQC:QuantumCircuit, back_end, shots, metric):\n",
    "    # get backend\n",
    "    result = execute(qc,backend=back_end,shots=shots).result()\n",
    "    counts = result.get_counts()\n",
    "    plot_histogram(counts)\n",
    "\n",
    "    dt = counts_decode(counts)\n",
    "    est_val = metric(dt)\n",
    "\n",
    "    return est_val"
   ]
  },
  {
   "source": [
    "## Parameter Initialize"
   ],
   "cell_type": "markdown",
   "metadata": {}
  },
  {
   "source": [
    "### Fixed Parameter"
   ],
   "cell_type": "markdown",
   "metadata": {}
  },
  {
   "cell_type": "code",
   "execution_count": 136,
   "metadata": {},
   "outputs": [],
   "source": [
    "qubit = 4\n",
    "nTrail = 20\n",
    "back_end = BasicAer.get_backend(\"qasm_simulator\")\n",
    "shots = 4096"
   ]
  },
  {
   "source": [
    "### Random Parameter"
   ],
   "cell_type": "markdown",
   "metadata": {}
  },
  {
   "cell_type": "code",
   "execution_count": 119,
   "metadata": {},
   "outputs": [],
   "source": [
    "Phi = np.random.random((nTrail,))"
   ]
  },
  {
   "source": [
    "## Start Trail\n",
    "###"
   ],
   "cell_type": "markdown",
   "metadata": {}
  },
  {
   "cell_type": "code",
   "execution_count": 167,
   "metadata": {},
   "outputs": [],
   "source": [
    "Phi_est = []\n",
    "for phi in Phi:\n",
    "    qc = phaseEstCircuit(qubit, phi)\n",
    "    single_run_res = getEstPhi(qc, back_end,shots,metric=choosemax)\n",
    "    Phi_est.append(single_run_res)\n",
    "Phi_est = np.array(Phi_est)"
   ]
  },
  {
   "cell_type": "code",
   "execution_count": 168,
   "metadata": {},
   "outputs": [],
   "source": [
    "error = np.abs(Phi_est-Phi)/Phi"
   ]
  },
  {
   "cell_type": "code",
   "execution_count": 169,
   "metadata": {},
   "outputs": [
    {
     "output_type": "stream",
     "name": "stdout",
     "text": [
      "[0.08472903 0.49427404 0.3674613  0.23268809 0.26036368 0.1725342\n 0.83520491 0.02854865 0.29719056 0.15837361 0.93240718 0.89152515\n 0.98992309 0.95712292 0.09845416 0.68571242 0.67088983 0.13470467\n 0.28937305 0.37873211]\n[0.078125 0.5      0.375    0.234375 0.265625 0.171875 0.828125 0.03125\n 0.296875 0.15625  0.9375   0.890625 0.984375 0.953125 0.09375  0.6875\n 0.671875 0.140625 0.296875 0.375   ]\n[0.07794295 0.01158459 0.02051562 0.00724965 0.02020759 0.00382068\n 0.00847686 0.09462273 0.0010618  0.01340886 0.00546201 0.00100968\n 0.00560457 0.00417702 0.04778019 0.0026069  0.00146845 0.04395044\n 0.02592482 0.00985422]\n"
     ]
    }
   ],
   "source": [
    "print(Phi)\n",
    "print(Phi_est)\n",
    "print(error)"
   ]
  },
  {
   "cell_type": "code",
   "execution_count": 170,
   "metadata": {},
   "outputs": [
    {
     "output_type": "stream",
     "name": "stdout",
     "text": [
      "[0.08472903 0.49427404 0.3674613  0.23268809 0.26036368 0.1725342\n 0.83520491 0.02854865 0.29719056 0.15837361 0.93240718 0.89152515\n 0.98992309 0.95712292 0.09845416 0.68571242 0.67088983 0.13470467\n 0.28937305 0.37873211]\n[0.09375 0.5     0.375   0.21875 0.25    0.1875  0.84375 0.03125 0.3125\n 0.15625 0.9375  0.90625 0.      0.96875 0.09375 0.6875  0.65625 0.125\n 0.28125 0.375  ]\n[0.10646845 0.01158459 0.02051562 0.05990032 0.03980462 0.08674108\n 0.01023113 0.09462273 0.05151389 0.01340886 0.00546201 0.01651647\n 1.         0.01214795 0.04778019 0.0026069  0.02182152 0.07204405\n 0.02807122 0.00985422]\n"
     ]
    }
   ],
   "source": [
    "qubit = 5\n",
    "nTrail = 20\n",
    "back_end = BasicAer.get_backend(\"qasm_simulator\")\n",
    "shots = 4096\n",
    "\n",
    "Phi_est = []\n",
    "for phi in Phi:\n",
    "    qc = phaseEstCircuit(qubit, phi)\n",
    "    single_run_res = getEstPhi(qc, back_end,shots,metric=choosemax)\n",
    "    Phi_est.append(single_run_res)\n",
    "Phi_est = np.array(Phi_est)\n",
    "\n",
    "error = np.abs(Phi_est-Phi)/Phi\n",
    "print(Phi)\n",
    "print(Phi_est)\n",
    "print(error)"
   ]
  },
  {
   "cell_type": "code",
   "execution_count": 171,
   "metadata": {},
   "outputs": [
    {
     "output_type": "stream",
     "name": "stdout",
     "text": [
      "[0.08472903 0.49427404 0.3674613  0.23268809 0.26036368 0.1725342\n 0.83520491 0.02854865 0.29719056 0.15837361 0.93240718 0.89152515\n 0.98992309 0.95712292 0.09845416 0.68571242 0.67088983 0.13470467\n 0.28937305 0.37873211]\n[0.078125 0.5      0.375    0.234375 0.265625 0.171875 0.828125 0.03125\n 0.296875 0.15625  0.9375   0.890625 0.984375 0.953125 0.09375  0.6875\n 0.671875 0.140625 0.296875 0.375   ]\n[0.07794295 0.01158459 0.02051562 0.00724965 0.02020759 0.00382068\n 0.00847686 0.09462273 0.0010618  0.01340886 0.00546201 0.00100968\n 0.00560457 0.00417702 0.04778019 0.0026069  0.00146845 0.04395044\n 0.02592482 0.00985422]\n"
     ]
    }
   ],
   "source": [
    "qubit = 6\n",
    "nTrail = 20\n",
    "back_end = BasicAer.get_backend(\"qasm_simulator\")\n",
    "shots = 4096\n",
    "\n",
    "Phi_est = []\n",
    "for phi in Phi:\n",
    "    qc = phaseEstCircuit(qubit, phi)\n",
    "    single_run_res = getEstPhi(qc, back_end,shots,metric=choosemax)\n",
    "    Phi_est.append(single_run_res)\n",
    "Phi_est = np.array(Phi_est)\n",
    "\n",
    "error = np.abs(Phi_est-Phi)/Phi\n",
    "print(Phi)\n",
    "print(Phi_est)\n",
    "print(error)"
   ]
  },
  {
   "cell_type": "code",
   "execution_count": 172,
   "metadata": {},
   "outputs": [
    {
     "output_type": "stream",
     "name": "stdout",
     "text": [
      "[0.08472903 0.49427404 0.3674613  0.23268809 0.26036368 0.1725342\n 0.83520491 0.02854865 0.29719056 0.15837361 0.93240718 0.89152515\n 0.98992309 0.95712292 0.09845416 0.68571242 0.67088983 0.13470467\n 0.28937305 0.37873211]\n[0.0859375 0.4921875 0.3671875 0.234375  0.2578125 0.171875  0.8359375\n 0.03125   0.296875  0.15625   0.9296875 0.890625  0.9921875 0.9609375\n 0.1015625 0.6875    0.671875  0.1328125 0.2890625 0.375    ]\n[0.01426275 0.00422142 0.00074513 0.00724965 0.00979851 0.00382068\n 0.00087713 0.09462273 0.0010618  0.01340886 0.00291684 0.00100968\n 0.00228746 0.00398546 0.03157146 0.0026069  0.00146845 0.0140468\n 0.0010732  0.00985422]\n"
     ]
    }
   ],
   "source": [
    "qubit = 7\n",
    "nTrail = 20\n",
    "back_end = BasicAer.get_backend(\"qasm_simulator\")\n",
    "shots = 4096\n",
    "\n",
    "Phi_est = []\n",
    "for phi in Phi:\n",
    "    qc = phaseEstCircuit(qubit, phi)\n",
    "    single_run_res = getEstPhi(qc, back_end,shots,metric=choosemax)\n",
    "    Phi_est.append(single_run_res)\n",
    "Phi_est = np.array(Phi_est)\n",
    "\n",
    "error = np.abs(Phi_est-Phi)/Phi\n",
    "print(Phi)\n",
    "print(Phi_est)\n",
    "print(error)"
   ]
  },
  {
   "cell_type": "code",
   "execution_count": 173,
   "metadata": {},
   "outputs": [
    {
     "output_type": "stream",
     "name": "stdout",
     "text": [
      "[0.08472903 0.49427404 0.3674613  0.23268809 0.26036368 0.1725342\n 0.83520491 0.02854865 0.29719056 0.15837361 0.93240718 0.89152515\n 0.98992309 0.95712292 0.09845416 0.68571242 0.67088983 0.13470467\n 0.28937305 0.37873211]\n[0.0859375  0.49609375 0.3671875  0.234375   0.26171875 0.171875\n 0.8359375  0.02734375 0.296875   0.16015625 0.93359375 0.890625\n 0.98828125 0.95703125 0.09765625 0.6875     0.671875   0.1328125\n 0.2890625  0.37890625]\n[1.42627502e-02 3.68158284e-03 7.45125398e-04 7.24965406e-03\n 5.20453879e-03 3.82067945e-03 8.77134032e-04 4.22051074e-02\n 1.06180076e-03 1.12559211e-02 1.27258562e-03 1.00967522e-03\n 1.65855746e-03 9.57781569e-05 8.10436355e-03 2.60689669e-03\n 1.46844679e-03 1.40468048e-02 1.07319921e-03 4.59796835e-04]\n"
     ]
    }
   ],
   "source": [
    "qubit = 8\n",
    "nTrail = 20\n",
    "back_end = BasicAer.get_backend(\"qasm_simulator\")\n",
    "shots = 4096\n",
    "\n",
    "Phi_est = []\n",
    "for phi in Phi:\n",
    "    qc = phaseEstCircuit(qubit, phi)\n",
    "    single_run_res = getEstPhi(qc, back_end,shots,metric=choosemax)\n",
    "    Phi_est.append(single_run_res)\n",
    "Phi_est = np.array(Phi_est)\n",
    "\n",
    "error = np.abs(Phi_est-Phi)/Phi\n",
    "print(Phi)\n",
    "print(Phi_est)\n",
    "print(error)"
   ]
  },
  {
   "cell_type": "code",
   "execution_count": null,
   "metadata": {},
   "outputs": [],
   "source": []
  },
  {
   "cell_type": "code",
   "execution_count": null,
   "metadata": {},
   "outputs": [],
   "source": []
  },
  {
   "cell_type": "code",
   "execution_count": 157,
   "metadata": {},
   "outputs": [],
   "source": [
    "def get_error(size, Phi, back_end, shots, metric):\n",
    "    Phi_est = []\n",
    "    for phi in Phi:\n",
    "        qc = phaseEstCircuit(qubit, phi)\n",
    "        qc.draw()\n",
    "        single_run_res = getEstPhi(qc, back_end,shots,metric)\n",
    "        Phi_est.append(single_run_res)\n",
    "    Phi_est = np.array(Phi_est)\n",
    "\n",
    "    return np.abs(Phi_est-Phi)/Phi"
   ]
  },
  {
   "cell_type": "code",
   "execution_count": 158,
   "metadata": {},
   "outputs": [],
   "source": [
    "error_4 = get_error(size=4, Phi=Phi, back_end=back_end,shots=2048,metric=choosemax)"
   ]
  },
  {
   "cell_type": "code",
   "execution_count": 142,
   "metadata": {},
   "outputs": [],
   "source": [
    "error_5 = get_error(size=5, Phi=Phi, back_end=back_end,shots=2048,metric=choosemax)"
   ]
  },
  {
   "cell_type": "code",
   "execution_count": 143,
   "metadata": {},
   "outputs": [],
   "source": [
    "error_6 = get_error(size=6, Phi=Phi, back_end=back_end,shots=2048,metric=choosemax)"
   ]
  },
  {
   "cell_type": "code",
   "execution_count": 144,
   "metadata": {},
   "outputs": [],
   "source": [
    "import matplotlib.pyplot as plt"
   ]
  },
  {
   "cell_type": "code",
   "execution_count": 145,
   "metadata": {},
   "outputs": [
    {
     "output_type": "execute_result",
     "data": {
      "text/plain": [
       "[<matplotlib.lines.Line2D at 0x7fa16664a4c0>,\n",
       " <matplotlib.lines.Line2D at 0x7fa16664aac0>,\n",
       " <matplotlib.lines.Line2D at 0x7fa16664a340>]"
      ]
     },
     "metadata": {},
     "execution_count": 145
    },
    {
     "output_type": "display_data",
     "data": {
      "text/plain": "<Figure size 432x288 with 1 Axes>",
      "image/svg+xml": "<?xml version=\"1.0\" encoding=\"utf-8\" standalone=\"no\"?>\n<!DOCTYPE svg PUBLIC \"-//W3C//DTD SVG 1.1//EN\"\n  \"http://www.w3.org/Graphics/SVG/1.1/DTD/svg11.dtd\">\n<!-- Created with matplotlib (https://matplotlib.org/) -->\n<svg height=\"248.518125pt\" version=\"1.1\" viewBox=\"0 0 368.925 248.518125\" width=\"368.925pt\" xmlns=\"http://www.w3.org/2000/svg\" xmlns:xlink=\"http://www.w3.org/1999/xlink\">\n <metadata>\n  <rdf:RDF xmlns:cc=\"http://creativecommons.org/ns#\" xmlns:dc=\"http://purl.org/dc/elements/1.1/\" xmlns:rdf=\"http://www.w3.org/1999/02/22-rdf-syntax-ns#\">\n   <cc:Work>\n    <dc:type rdf:resource=\"http://purl.org/dc/dcmitype/StillImage\"/>\n    <dc:date>2021-01-15T01:33:34.149168</dc:date>\n    <dc:format>image/svg+xml</dc:format>\n    <dc:creator>\n     <cc:Agent>\n      <dc:title>Matplotlib v3.3.1, https://matplotlib.org/</dc:title>\n     </cc:Agent>\n    </dc:creator>\n   </cc:Work>\n  </rdf:RDF>\n </metadata>\n <defs>\n  <style type=\"text/css\">*{stroke-linecap:butt;stroke-linejoin:round;}</style>\n </defs>\n <g id=\"figure_1\">\n  <g id=\"patch_1\">\n   <path d=\"M -0 248.518125 \nL 368.925 248.518125 \nL 368.925 0 \nL -0 0 \nz\n\" style=\"fill:none;\"/>\n  </g>\n  <g id=\"axes_1\">\n   <g id=\"patch_2\">\n    <path d=\"M 26.925 224.64 \nL 361.725 224.64 \nL 361.725 7.2 \nL 26.925 7.2 \nz\n\" style=\"fill:#ffffff;\"/>\n   </g>\n   <g id=\"matplotlib.axis_1\">\n    <g id=\"xtick_1\">\n     <g id=\"line2d_1\">\n      <defs>\n       <path d=\"M 0 0 \nL 0 3.5 \n\" id=\"ma1bf1826af\" style=\"stroke:#000000;stroke-width:0.8;\"/>\n      </defs>\n      <g>\n       <use style=\"stroke:#000000;stroke-width:0.8;\" x=\"33.104903\" xlink:href=\"#ma1bf1826af\" y=\"224.64\"/>\n      </g>\n     </g>\n     <g id=\"text_1\">\n      <!-- 0.0 -->\n      <g transform=\"translate(25.15334 239.238437)scale(0.1 -0.1)\">\n       <defs>\n        <path d=\"M 31.78125 66.40625 \nQ 24.171875 66.40625 20.328125 58.90625 \nQ 16.5 51.421875 16.5 36.375 \nQ 16.5 21.390625 20.328125 13.890625 \nQ 24.171875 6.390625 31.78125 6.390625 \nQ 39.453125 6.390625 43.28125 13.890625 \nQ 47.125 21.390625 47.125 36.375 \nQ 47.125 51.421875 43.28125 58.90625 \nQ 39.453125 66.40625 31.78125 66.40625 \nz\nM 31.78125 74.21875 \nQ 44.046875 74.21875 50.515625 64.515625 \nQ 56.984375 54.828125 56.984375 36.375 \nQ 56.984375 17.96875 50.515625 8.265625 \nQ 44.046875 -1.421875 31.78125 -1.421875 \nQ 19.53125 -1.421875 13.0625 8.265625 \nQ 6.59375 17.96875 6.59375 36.375 \nQ 6.59375 54.828125 13.0625 64.515625 \nQ 19.53125 74.21875 31.78125 74.21875 \nz\n\" id=\"DejaVuSans-48\"/>\n        <path d=\"M 10.6875 12.40625 \nL 21 12.40625 \nL 21 0 \nL 10.6875 0 \nz\n\" id=\"DejaVuSans-46\"/>\n       </defs>\n       <use xlink:href=\"#DejaVuSans-48\"/>\n       <use x=\"63.623047\" xlink:href=\"#DejaVuSans-46\"/>\n       <use x=\"95.410156\" xlink:href=\"#DejaVuSans-48\"/>\n      </g>\n     </g>\n    </g>\n    <g id=\"xtick_2\">\n     <g id=\"line2d_2\">\n      <g>\n       <use style=\"stroke:#000000;stroke-width:0.8;\" x=\"96.42334\" xlink:href=\"#ma1bf1826af\" y=\"224.64\"/>\n      </g>\n     </g>\n     <g id=\"text_2\">\n      <!-- 0.2 -->\n      <g transform=\"translate(88.471777 239.238437)scale(0.1 -0.1)\">\n       <defs>\n        <path d=\"M 19.1875 8.296875 \nL 53.609375 8.296875 \nL 53.609375 0 \nL 7.328125 0 \nL 7.328125 8.296875 \nQ 12.9375 14.109375 22.625 23.890625 \nQ 32.328125 33.6875 34.8125 36.53125 \nQ 39.546875 41.84375 41.421875 45.53125 \nQ 43.3125 49.21875 43.3125 52.78125 \nQ 43.3125 58.59375 39.234375 62.25 \nQ 35.15625 65.921875 28.609375 65.921875 \nQ 23.96875 65.921875 18.8125 64.3125 \nQ 13.671875 62.703125 7.8125 59.421875 \nL 7.8125 69.390625 \nQ 13.765625 71.78125 18.9375 73 \nQ 24.125 74.21875 28.421875 74.21875 \nQ 39.75 74.21875 46.484375 68.546875 \nQ 53.21875 62.890625 53.21875 53.421875 \nQ 53.21875 48.921875 51.53125 44.890625 \nQ 49.859375 40.875 45.40625 35.40625 \nQ 44.1875 33.984375 37.640625 27.21875 \nQ 31.109375 20.453125 19.1875 8.296875 \nz\n\" id=\"DejaVuSans-50\"/>\n       </defs>\n       <use xlink:href=\"#DejaVuSans-48\"/>\n       <use x=\"63.623047\" xlink:href=\"#DejaVuSans-46\"/>\n       <use x=\"95.410156\" xlink:href=\"#DejaVuSans-50\"/>\n      </g>\n     </g>\n    </g>\n    <g id=\"xtick_3\">\n     <g id=\"line2d_3\">\n      <g>\n       <use style=\"stroke:#000000;stroke-width:0.8;\" x=\"159.741777\" xlink:href=\"#ma1bf1826af\" y=\"224.64\"/>\n      </g>\n     </g>\n     <g id=\"text_3\">\n      <!-- 0.4 -->\n      <g transform=\"translate(151.790214 239.238437)scale(0.1 -0.1)\">\n       <defs>\n        <path d=\"M 37.796875 64.3125 \nL 12.890625 25.390625 \nL 37.796875 25.390625 \nz\nM 35.203125 72.90625 \nL 47.609375 72.90625 \nL 47.609375 25.390625 \nL 58.015625 25.390625 \nL 58.015625 17.1875 \nL 47.609375 17.1875 \nL 47.609375 0 \nL 37.796875 0 \nL 37.796875 17.1875 \nL 4.890625 17.1875 \nL 4.890625 26.703125 \nz\n\" id=\"DejaVuSans-52\"/>\n       </defs>\n       <use xlink:href=\"#DejaVuSans-48\"/>\n       <use x=\"63.623047\" xlink:href=\"#DejaVuSans-46\"/>\n       <use x=\"95.410156\" xlink:href=\"#DejaVuSans-52\"/>\n      </g>\n     </g>\n    </g>\n    <g id=\"xtick_4\">\n     <g id=\"line2d_4\">\n      <g>\n       <use style=\"stroke:#000000;stroke-width:0.8;\" x=\"223.060214\" xlink:href=\"#ma1bf1826af\" y=\"224.64\"/>\n      </g>\n     </g>\n     <g id=\"text_4\">\n      <!-- 0.6 -->\n      <g transform=\"translate(215.108651 239.238437)scale(0.1 -0.1)\">\n       <defs>\n        <path d=\"M 33.015625 40.375 \nQ 26.375 40.375 22.484375 35.828125 \nQ 18.609375 31.296875 18.609375 23.390625 \nQ 18.609375 15.53125 22.484375 10.953125 \nQ 26.375 6.390625 33.015625 6.390625 \nQ 39.65625 6.390625 43.53125 10.953125 \nQ 47.40625 15.53125 47.40625 23.390625 \nQ 47.40625 31.296875 43.53125 35.828125 \nQ 39.65625 40.375 33.015625 40.375 \nz\nM 52.59375 71.296875 \nL 52.59375 62.3125 \nQ 48.875 64.0625 45.09375 64.984375 \nQ 41.3125 65.921875 37.59375 65.921875 \nQ 27.828125 65.921875 22.671875 59.328125 \nQ 17.53125 52.734375 16.796875 39.40625 \nQ 19.671875 43.65625 24.015625 45.921875 \nQ 28.375 48.1875 33.59375 48.1875 \nQ 44.578125 48.1875 50.953125 41.515625 \nQ 57.328125 34.859375 57.328125 23.390625 \nQ 57.328125 12.15625 50.6875 5.359375 \nQ 44.046875 -1.421875 33.015625 -1.421875 \nQ 20.359375 -1.421875 13.671875 8.265625 \nQ 6.984375 17.96875 6.984375 36.375 \nQ 6.984375 53.65625 15.1875 63.9375 \nQ 23.390625 74.21875 37.203125 74.21875 \nQ 40.921875 74.21875 44.703125 73.484375 \nQ 48.484375 72.75 52.59375 71.296875 \nz\n\" id=\"DejaVuSans-54\"/>\n       </defs>\n       <use xlink:href=\"#DejaVuSans-48\"/>\n       <use x=\"63.623047\" xlink:href=\"#DejaVuSans-46\"/>\n       <use x=\"95.410156\" xlink:href=\"#DejaVuSans-54\"/>\n      </g>\n     </g>\n    </g>\n    <g id=\"xtick_5\">\n     <g id=\"line2d_5\">\n      <g>\n       <use style=\"stroke:#000000;stroke-width:0.8;\" x=\"286.378651\" xlink:href=\"#ma1bf1826af\" y=\"224.64\"/>\n      </g>\n     </g>\n     <g id=\"text_5\">\n      <!-- 0.8 -->\n      <g transform=\"translate(278.427088 239.238437)scale(0.1 -0.1)\">\n       <defs>\n        <path d=\"M 31.78125 34.625 \nQ 24.75 34.625 20.71875 30.859375 \nQ 16.703125 27.09375 16.703125 20.515625 \nQ 16.703125 13.921875 20.71875 10.15625 \nQ 24.75 6.390625 31.78125 6.390625 \nQ 38.8125 6.390625 42.859375 10.171875 \nQ 46.921875 13.96875 46.921875 20.515625 \nQ 46.921875 27.09375 42.890625 30.859375 \nQ 38.875 34.625 31.78125 34.625 \nz\nM 21.921875 38.8125 \nQ 15.578125 40.375 12.03125 44.71875 \nQ 8.5 49.078125 8.5 55.328125 \nQ 8.5 64.0625 14.71875 69.140625 \nQ 20.953125 74.21875 31.78125 74.21875 \nQ 42.671875 74.21875 48.875 69.140625 \nQ 55.078125 64.0625 55.078125 55.328125 \nQ 55.078125 49.078125 51.53125 44.71875 \nQ 48 40.375 41.703125 38.8125 \nQ 48.828125 37.15625 52.796875 32.3125 \nQ 56.78125 27.484375 56.78125 20.515625 \nQ 56.78125 9.90625 50.3125 4.234375 \nQ 43.84375 -1.421875 31.78125 -1.421875 \nQ 19.734375 -1.421875 13.25 4.234375 \nQ 6.78125 9.90625 6.78125 20.515625 \nQ 6.78125 27.484375 10.78125 32.3125 \nQ 14.796875 37.15625 21.921875 38.8125 \nz\nM 18.3125 54.390625 \nQ 18.3125 48.734375 21.84375 45.5625 \nQ 25.390625 42.390625 31.78125 42.390625 \nQ 38.140625 42.390625 41.71875 45.5625 \nQ 45.3125 48.734375 45.3125 54.390625 \nQ 45.3125 60.0625 41.71875 63.234375 \nQ 38.140625 66.40625 31.78125 66.40625 \nQ 25.390625 66.40625 21.84375 63.234375 \nQ 18.3125 60.0625 18.3125 54.390625 \nz\n\" id=\"DejaVuSans-56\"/>\n       </defs>\n       <use xlink:href=\"#DejaVuSans-48\"/>\n       <use x=\"63.623047\" xlink:href=\"#DejaVuSans-46\"/>\n       <use x=\"95.410156\" xlink:href=\"#DejaVuSans-56\"/>\n      </g>\n     </g>\n    </g>\n    <g id=\"xtick_6\">\n     <g id=\"line2d_6\">\n      <g>\n       <use style=\"stroke:#000000;stroke-width:0.8;\" x=\"349.697088\" xlink:href=\"#ma1bf1826af\" y=\"224.64\"/>\n      </g>\n     </g>\n     <g id=\"text_6\">\n      <!-- 1.0 -->\n      <g transform=\"translate(341.745525 239.238437)scale(0.1 -0.1)\">\n       <defs>\n        <path d=\"M 12.40625 8.296875 \nL 28.515625 8.296875 \nL 28.515625 63.921875 \nL 10.984375 60.40625 \nL 10.984375 69.390625 \nL 28.421875 72.90625 \nL 38.28125 72.90625 \nL 38.28125 8.296875 \nL 54.390625 8.296875 \nL 54.390625 0 \nL 12.40625 0 \nz\n\" id=\"DejaVuSans-49\"/>\n       </defs>\n       <use xlink:href=\"#DejaVuSans-49\"/>\n       <use x=\"63.623047\" xlink:href=\"#DejaVuSans-46\"/>\n       <use x=\"95.410156\" xlink:href=\"#DejaVuSans-48\"/>\n      </g>\n     </g>\n    </g>\n   </g>\n   <g id=\"matplotlib.axis_2\">\n    <g id=\"ytick_1\">\n     <g id=\"line2d_7\">\n      <defs>\n       <path d=\"M 0 0 \nL -3.5 0 \n\" id=\"mcf894d2ec3\" style=\"stroke:#000000;stroke-width:0.8;\"/>\n      </defs>\n      <g>\n       <use style=\"stroke:#000000;stroke-width:0.8;\" x=\"26.925\" xlink:href=\"#mcf894d2ec3\" y=\"214.917008\"/>\n      </g>\n     </g>\n     <g id=\"text_7\">\n      <!-- 0 -->\n      <g transform=\"translate(13.5625 218.716227)scale(0.1 -0.1)\">\n       <use xlink:href=\"#DejaVuSans-48\"/>\n      </g>\n     </g>\n    </g>\n    <g id=\"ytick_2\">\n     <g id=\"line2d_8\">\n      <g>\n       <use style=\"stroke:#000000;stroke-width:0.8;\" x=\"26.925\" xlink:href=\"#mcf894d2ec3\" y=\"182.312861\"/>\n      </g>\n     </g>\n     <g id=\"text_8\">\n      <!-- 2 -->\n      <g transform=\"translate(13.5625 186.112079)scale(0.1 -0.1)\">\n       <use xlink:href=\"#DejaVuSans-50\"/>\n      </g>\n     </g>\n    </g>\n    <g id=\"ytick_3\">\n     <g id=\"line2d_9\">\n      <g>\n       <use style=\"stroke:#000000;stroke-width:0.8;\" x=\"26.925\" xlink:href=\"#mcf894d2ec3\" y=\"149.708713\"/>\n      </g>\n     </g>\n     <g id=\"text_9\">\n      <!-- 4 -->\n      <g transform=\"translate(13.5625 153.507932)scale(0.1 -0.1)\">\n       <use xlink:href=\"#DejaVuSans-52\"/>\n      </g>\n     </g>\n    </g>\n    <g id=\"ytick_4\">\n     <g id=\"line2d_10\">\n      <g>\n       <use style=\"stroke:#000000;stroke-width:0.8;\" x=\"26.925\" xlink:href=\"#mcf894d2ec3\" y=\"117.104566\"/>\n      </g>\n     </g>\n     <g id=\"text_10\">\n      <!-- 6 -->\n      <g transform=\"translate(13.5625 120.903785)scale(0.1 -0.1)\">\n       <use xlink:href=\"#DejaVuSans-54\"/>\n      </g>\n     </g>\n    </g>\n    <g id=\"ytick_5\">\n     <g id=\"line2d_11\">\n      <g>\n       <use style=\"stroke:#000000;stroke-width:0.8;\" x=\"26.925\" xlink:href=\"#mcf894d2ec3\" y=\"84.500419\"/>\n      </g>\n     </g>\n     <g id=\"text_11\">\n      <!-- 8 -->\n      <g transform=\"translate(13.5625 88.299637)scale(0.1 -0.1)\">\n       <use xlink:href=\"#DejaVuSans-56\"/>\n      </g>\n     </g>\n    </g>\n    <g id=\"ytick_6\">\n     <g id=\"line2d_12\">\n      <g>\n       <use style=\"stroke:#000000;stroke-width:0.8;\" x=\"26.925\" xlink:href=\"#mcf894d2ec3\" y=\"51.896271\"/>\n      </g>\n     </g>\n     <g id=\"text_12\">\n      <!-- 10 -->\n      <g transform=\"translate(7.2 55.69549)scale(0.1 -0.1)\">\n       <use xlink:href=\"#DejaVuSans-49\"/>\n       <use x=\"63.623047\" xlink:href=\"#DejaVuSans-48\"/>\n      </g>\n     </g>\n    </g>\n    <g id=\"ytick_7\">\n     <g id=\"line2d_13\">\n      <g>\n       <use style=\"stroke:#000000;stroke-width:0.8;\" x=\"26.925\" xlink:href=\"#mcf894d2ec3\" y=\"19.292124\"/>\n      </g>\n     </g>\n     <g id=\"text_13\">\n      <!-- 12 -->\n      <g transform=\"translate(7.2 23.091343)scale(0.1 -0.1)\">\n       <use xlink:href=\"#DejaVuSans-49\"/>\n       <use x=\"63.623047\" xlink:href=\"#DejaVuSans-50\"/>\n      </g>\n     </g>\n    </g>\n   </g>\n   <g id=\"line2d_14\">\n    <defs>\n     <path d=\"M -3 3 \nL 3 3 \nL 3 -3 \nL -3 -3 \nz\n\" id=\"m96c5d5add0\" style=\"stroke:#ff0000;stroke-linejoin:miter;\"/>\n    </defs>\n    <g clip-path=\"url(#p212bb3b51e)\">\n     <use style=\"fill:#ff0000;stroke:#ff0000;stroke-linejoin:miter;\" x=\"59.929452\" xlink:href=\"#m96c5d5add0\" y=\"159.068161\"/>\n     <use style=\"fill:#ff0000;stroke:#ff0000;stroke-linejoin:miter;\" x=\"189.588201\" xlink:href=\"#m96c5d5add0\" y=\"210.983129\"/>\n     <use style=\"fill:#ff0000;stroke:#ff0000;stroke-linejoin:miter;\" x=\"149.44028\" xlink:href=\"#m96c5d5add0\" y=\"214.582561\"/>\n     <use style=\"fill:#ff0000;stroke:#ff0000;stroke-linejoin:miter;\" x=\"106.772134\" xlink:href=\"#m96c5d5add0\" y=\"204.946669\"/>\n     <use style=\"fill:#ff0000;stroke:#ff0000;stroke-linejoin:miter;\" x=\"115.534008\" xlink:href=\"#m96c5d5add0\" y=\"207.739318\"/>\n     <use style=\"fill:#ff0000;stroke:#ff0000;stroke-linejoin:miter;\" x=\"87.727881\" xlink:href=\"#m96c5d5add0\" y=\"195.786815\"/>\n     <use style=\"fill:#ff0000;stroke:#ff0000;stroke-linejoin:miter;\" x=\"297.524251\" xlink:href=\"#m96c5d5add0\" y=\"205.934429\"/>\n     <use style=\"fill:#ff0000;stroke:#ff0000;stroke-linejoin:miter;\" x=\"42.143182\" xlink:href=\"#m96c5d5add0\" y=\"17.083636\"/>\n     <use style=\"fill:#ff0000;stroke:#ff0000;stroke-linejoin:miter;\" x=\"127.193111\" xlink:href=\"#m96c5d5add0\" y=\"210.648853\"/>\n     <use style=\"fill:#ff0000;stroke:#ff0000;stroke-linejoin:miter;\" x=\"83.24475\" xlink:href=\"#m96c5d5add0\" y=\"192.618726\"/>\n     <use style=\"fill:#ff0000;stroke:#ff0000;stroke-linejoin:miter;\" x=\"328.29773\" xlink:href=\"#m96c5d5add0\" y=\"205.171381\"/>\n     <use style=\"fill:#ff0000;stroke:#ff0000;stroke-linejoin:miter;\" x=\"315.354798\" xlink:href=\"#m96c5d5add0\" y=\"205.472035\"/>\n     <use style=\"fill:#ff0000;stroke:#ff0000;stroke-linejoin:miter;\" x=\"346.506818\" xlink:href=\"#m96c5d5add0\" y=\"204.790442\"/>\n     <use style=\"fill:#ff0000;stroke:#ff0000;stroke-linejoin:miter;\" x=\"336.12254\" xlink:href=\"#m96c5d5add0\" y=\"205.002074\"/>\n     <use style=\"fill:#ff0000;stroke:#ff0000;stroke-linejoin:miter;\" x=\"64.27472\" xlink:href=\"#m96c5d5add0\" y=\"169.126452\"/>\n     <use style=\"fill:#ff0000;stroke:#ff0000;stroke-linejoin:miter;\" x=\"250.196096\" xlink:href=\"#m96c5d5add0\" y=\"207.530155\"/>\n     <use style=\"fill:#ff0000;stroke:#ff0000;stroke-linejoin:miter;\" x=\"245.503381\" xlink:href=\"#m96c5d5add0\" y=\"207.727127\"/>\n     <use style=\"fill:#ff0000;stroke:#ff0000;stroke-linejoin:miter;\" x=\"75.751349\" xlink:href=\"#m96c5d5add0\" y=\"185.836263\"/>\n     <use style=\"fill:#ff0000;stroke:#ff0000;stroke-linejoin:miter;\" x=\"124.71815\" xlink:href=\"#m96c5d5add0\" y=\"210.093142\"/>\n     <use style=\"fill:#ff0000;stroke:#ff0000;stroke-linejoin:miter;\" x=\"153.008529\" xlink:href=\"#m96c5d5add0\" y=\"214.756364\"/>\n    </g>\n   </g>\n   <g id=\"line2d_15\">\n    <defs>\n     <path d=\"M -3 3 \nL 3 3 \nL 3 -3 \nL -3 -3 \nz\n\" id=\"m886982d511\" style=\"stroke:#0000ff;stroke-linejoin:miter;\"/>\n    </defs>\n    <g clip-path=\"url(#p212bb3b51e)\">\n     <use style=\"fill:#0000ff;stroke:#0000ff;stroke-linejoin:miter;\" x=\"59.929452\" xlink:href=\"#m886982d511\" y=\"159.068161\"/>\n     <use style=\"fill:#0000ff;stroke:#0000ff;stroke-linejoin:miter;\" x=\"189.588201\" xlink:href=\"#m886982d511\" y=\"210.983129\"/>\n     <use style=\"fill:#0000ff;stroke:#0000ff;stroke-linejoin:miter;\" x=\"149.44028\" xlink:href=\"#m886982d511\" y=\"214.582561\"/>\n     <use style=\"fill:#0000ff;stroke:#0000ff;stroke-linejoin:miter;\" x=\"106.772134\" xlink:href=\"#m886982d511\" y=\"204.946669\"/>\n     <use style=\"fill:#0000ff;stroke:#0000ff;stroke-linejoin:miter;\" x=\"115.534008\" xlink:href=\"#m886982d511\" y=\"207.739318\"/>\n     <use style=\"fill:#0000ff;stroke:#0000ff;stroke-linejoin:miter;\" x=\"87.727881\" xlink:href=\"#m886982d511\" y=\"195.786815\"/>\n     <use style=\"fill:#0000ff;stroke:#0000ff;stroke-linejoin:miter;\" x=\"297.524251\" xlink:href=\"#m886982d511\" y=\"205.934429\"/>\n     <use style=\"fill:#0000ff;stroke:#0000ff;stroke-linejoin:miter;\" x=\"42.143182\" xlink:href=\"#m886982d511\" y=\"17.083636\"/>\n     <use style=\"fill:#0000ff;stroke:#0000ff;stroke-linejoin:miter;\" x=\"127.193111\" xlink:href=\"#m886982d511\" y=\"210.648853\"/>\n     <use style=\"fill:#0000ff;stroke:#0000ff;stroke-linejoin:miter;\" x=\"83.24475\" xlink:href=\"#m886982d511\" y=\"192.618726\"/>\n     <use style=\"fill:#0000ff;stroke:#0000ff;stroke-linejoin:miter;\" x=\"328.29773\" xlink:href=\"#m886982d511\" y=\"205.171381\"/>\n     <use style=\"fill:#0000ff;stroke:#0000ff;stroke-linejoin:miter;\" x=\"315.354798\" xlink:href=\"#m886982d511\" y=\"205.472035\"/>\n     <use style=\"fill:#0000ff;stroke:#0000ff;stroke-linejoin:miter;\" x=\"346.506818\" xlink:href=\"#m886982d511\" y=\"204.790442\"/>\n     <use style=\"fill:#0000ff;stroke:#0000ff;stroke-linejoin:miter;\" x=\"336.12254\" xlink:href=\"#m886982d511\" y=\"205.002074\"/>\n     <use style=\"fill:#0000ff;stroke:#0000ff;stroke-linejoin:miter;\" x=\"64.27472\" xlink:href=\"#m886982d511\" y=\"169.126452\"/>\n     <use style=\"fill:#0000ff;stroke:#0000ff;stroke-linejoin:miter;\" x=\"250.196096\" xlink:href=\"#m886982d511\" y=\"207.530155\"/>\n     <use style=\"fill:#0000ff;stroke:#0000ff;stroke-linejoin:miter;\" x=\"245.503381\" xlink:href=\"#m886982d511\" y=\"207.727127\"/>\n     <use style=\"fill:#0000ff;stroke:#0000ff;stroke-linejoin:miter;\" x=\"75.751349\" xlink:href=\"#m886982d511\" y=\"185.836263\"/>\n     <use style=\"fill:#0000ff;stroke:#0000ff;stroke-linejoin:miter;\" x=\"124.71815\" xlink:href=\"#m886982d511\" y=\"210.093142\"/>\n     <use style=\"fill:#0000ff;stroke:#0000ff;stroke-linejoin:miter;\" x=\"153.008529\" xlink:href=\"#m886982d511\" y=\"214.756364\"/>\n    </g>\n   </g>\n   <g id=\"line2d_16\">\n    <defs>\n     <path d=\"M -3 3 \nL 3 3 \nL 3 -3 \nL -3 -3 \nz\n\" id=\"mb8103cd654\" style=\"stroke:#008000;stroke-linejoin:miter;\"/>\n    </defs>\n    <g clip-path=\"url(#p212bb3b51e)\">\n     <use style=\"fill:#008000;stroke:#008000;stroke-linejoin:miter;\" x=\"59.929452\" xlink:href=\"#mb8103cd654\" y=\"159.068161\"/>\n     <use style=\"fill:#008000;stroke:#008000;stroke-linejoin:miter;\" x=\"189.588201\" xlink:href=\"#mb8103cd654\" y=\"210.983129\"/>\n     <use style=\"fill:#008000;stroke:#008000;stroke-linejoin:miter;\" x=\"149.44028\" xlink:href=\"#mb8103cd654\" y=\"214.582561\"/>\n     <use style=\"fill:#008000;stroke:#008000;stroke-linejoin:miter;\" x=\"106.772134\" xlink:href=\"#mb8103cd654\" y=\"204.946669\"/>\n     <use style=\"fill:#008000;stroke:#008000;stroke-linejoin:miter;\" x=\"115.534008\" xlink:href=\"#mb8103cd654\" y=\"207.739318\"/>\n     <use style=\"fill:#008000;stroke:#008000;stroke-linejoin:miter;\" x=\"87.727881\" xlink:href=\"#mb8103cd654\" y=\"195.786815\"/>\n     <use style=\"fill:#008000;stroke:#008000;stroke-linejoin:miter;\" x=\"297.524251\" xlink:href=\"#mb8103cd654\" y=\"205.934429\"/>\n     <use style=\"fill:#008000;stroke:#008000;stroke-linejoin:miter;\" x=\"42.143182\" xlink:href=\"#mb8103cd654\" y=\"17.083636\"/>\n     <use style=\"fill:#008000;stroke:#008000;stroke-linejoin:miter;\" x=\"127.193111\" xlink:href=\"#mb8103cd654\" y=\"210.648853\"/>\n     <use style=\"fill:#008000;stroke:#008000;stroke-linejoin:miter;\" x=\"83.24475\" xlink:href=\"#mb8103cd654\" y=\"192.618726\"/>\n     <use style=\"fill:#008000;stroke:#008000;stroke-linejoin:miter;\" x=\"328.29773\" xlink:href=\"#mb8103cd654\" y=\"205.171381\"/>\n     <use style=\"fill:#008000;stroke:#008000;stroke-linejoin:miter;\" x=\"315.354798\" xlink:href=\"#mb8103cd654\" y=\"205.472035\"/>\n     <use style=\"fill:#008000;stroke:#008000;stroke-linejoin:miter;\" x=\"346.506818\" xlink:href=\"#mb8103cd654\" y=\"204.790442\"/>\n     <use style=\"fill:#008000;stroke:#008000;stroke-linejoin:miter;\" x=\"336.12254\" xlink:href=\"#mb8103cd654\" y=\"205.002074\"/>\n     <use style=\"fill:#008000;stroke:#008000;stroke-linejoin:miter;\" x=\"64.27472\" xlink:href=\"#mb8103cd654\" y=\"169.126452\"/>\n     <use style=\"fill:#008000;stroke:#008000;stroke-linejoin:miter;\" x=\"250.196096\" xlink:href=\"#mb8103cd654\" y=\"207.530155\"/>\n     <use style=\"fill:#008000;stroke:#008000;stroke-linejoin:miter;\" x=\"245.503381\" xlink:href=\"#mb8103cd654\" y=\"207.727127\"/>\n     <use style=\"fill:#008000;stroke:#008000;stroke-linejoin:miter;\" x=\"75.751349\" xlink:href=\"#mb8103cd654\" y=\"185.836263\"/>\n     <use style=\"fill:#008000;stroke:#008000;stroke-linejoin:miter;\" x=\"124.71815\" xlink:href=\"#mb8103cd654\" y=\"210.093142\"/>\n     <use style=\"fill:#008000;stroke:#008000;stroke-linejoin:miter;\" x=\"153.008529\" xlink:href=\"#mb8103cd654\" y=\"214.756364\"/>\n    </g>\n   </g>\n   <g id=\"patch_3\">\n    <path d=\"M 26.925 224.64 \nL 26.925 7.2 \n\" style=\"fill:none;stroke:#000000;stroke-linecap:square;stroke-linejoin:miter;stroke-width:0.8;\"/>\n   </g>\n   <g id=\"patch_4\">\n    <path d=\"M 361.725 224.64 \nL 361.725 7.2 \n\" style=\"fill:none;stroke:#000000;stroke-linecap:square;stroke-linejoin:miter;stroke-width:0.8;\"/>\n   </g>\n   <g id=\"patch_5\">\n    <path d=\"M 26.925 224.64 \nL 361.725 224.64 \n\" style=\"fill:none;stroke:#000000;stroke-linecap:square;stroke-linejoin:miter;stroke-width:0.8;\"/>\n   </g>\n   <g id=\"patch_6\">\n    <path d=\"M 26.925 7.2 \nL 361.725 7.2 \n\" style=\"fill:none;stroke:#000000;stroke-linecap:square;stroke-linejoin:miter;stroke-width:0.8;\"/>\n   </g>\n  </g>\n </g>\n <defs>\n  <clipPath id=\"p212bb3b51e\">\n   <rect height=\"217.44\" width=\"334.8\" x=\"26.925\" y=\"7.2\"/>\n  </clipPath>\n </defs>\n</svg>\n",
      "image/png": "[encoded data removed]"
     },
     "metadata": {
      "needs_background": "light"
     }
    }
   ],
   "source": [
    "plt.plot(Phi,error_4,'rs',Phi,error_5,'bs',Phi,error_6,'gs')"
   ]
  },
  {
   "cell_type": "code",
   "execution_count": 159,
   "metadata": {},
   "outputs": [
    {
     "output_type": "execute_result",
     "data": {
      "text/plain": [
       "array([3.42587382e+00, 2.41311559e-01, 2.05156166e-02, 6.11599446e-01,\n",
       "       4.40293071e-01, 1.17348215e+00, 5.51008388e-01, 1.21354728e+01,\n",
       "       2.61816673e-01, 1.36781874e+00, 5.97815196e-01, 5.79372495e-01,\n",
       "       6.21182694e-01, 6.08200795e-01, 2.80887924e+00, 4.53123511e-01,\n",
       "       4.41040867e-01, 1.78386785e+00, 2.95905039e-01, 9.85422169e-03])"
      ]
     },
     "metadata": {},
     "execution_count": 159
    }
   ],
   "source": [
    "error_4"
   ]
  },
  {
   "cell_type": "code",
   "execution_count": 147,
   "metadata": {},
   "outputs": [
    {
     "output_type": "execute_result",
     "data": {
      "text/plain": [
       "array([3.42587382e+00, 2.41311559e-01, 2.05156166e-02, 6.11599446e-01,\n",
       "       4.40293071e-01, 1.17348215e+00, 5.51008388e-01, 1.21354728e+01,\n",
       "       2.61816673e-01, 1.36781874e+00, 5.97815196e-01, 5.79372495e-01,\n",
       "       6.21182694e-01, 6.08200795e-01, 2.80887924e+00, 4.53123511e-01,\n",
       "       4.41040867e-01, 1.78386785e+00, 2.95905039e-01, 9.85422169e-03])"
      ]
     },
     "metadata": {},
     "execution_count": 147
    }
   ],
   "source": [
    "error_5"
   ]
  },
  {
   "cell_type": "code",
   "execution_count": null,
   "metadata": {},
   "outputs": [],
   "source": []
  }
 ],
 "metadata": {
  "kernelspec": {
   "display_name": "Python 3",
   "language": "python",
   "name": "python3"
  },
  "language_info": {
   "codemirror_mode": {
    "name": "ipython",
    "version": 3
   },
   "file_extension": ".py",
   "mimetype": "text/x-python",
   "name": "python",
   "nbconvert_exporter": "python",
   "pygments_lexer": "ipython3",
   "version": "3.8.5-final"
  }
 },
 "nbformat": 4,
 "nbformat_minor": 4
}